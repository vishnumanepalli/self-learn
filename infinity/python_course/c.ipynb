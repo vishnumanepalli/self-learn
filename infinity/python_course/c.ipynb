{
 "cells": [
  {
   "cell_type": "code",
   "execution_count": 12,
   "id": "2dbba9e2",
   "metadata": {},
   "outputs": [
    {
     "name": "stdout",
     "output_type": "stream",
     "text": [
      "Vishnu\n"
     ]
    }
   ],
   "source": [
    "print(\"Vishnu\")"
   ]
  },
  {
   "cell_type": "code",
   "execution_count": 18,
   "id": "88548667",
   "metadata": {},
   "outputs": [
    {
     "data": {
      "text/plain": [
       "2"
      ]
     },
     "execution_count": 18,
     "metadata": {},
     "output_type": "execute_result"
    }
   ],
   "source": [
    "1+1"
   ]
  },
  {
   "cell_type": "code",
   "execution_count": 33,
   "id": "db8a48a0",
   "metadata": {},
   "outputs": [
    {
     "data": {
      "text/plain": [
       "5.551115123125783e-17"
      ]
     },
     "execution_count": 33,
     "metadata": {},
     "output_type": "execute_result"
    }
   ],
   "source": [
    "0.1+0.2-0.3"
   ]
  },
  {
   "cell_type": "code",
   "execution_count": 34,
   "id": "2853432c",
   "metadata": {},
   "outputs": [
    {
     "ename": "SyntaxError",
     "evalue": "invalid syntax (670537044.py, line 1)",
     "output_type": "error",
     "traceback": [
      "\u001b[1;36m  Cell \u001b[1;32mIn[34], line 1\u001b[1;36m\u001b[0m\n\u001b[1;33m    6+*6\u001b[0m\n\u001b[1;37m      ^\u001b[0m\n\u001b[1;31mSyntaxError\u001b[0m\u001b[1;31m:\u001b[0m invalid syntax\n"
     ]
    }
   ],
   "source": [
    "6+*6"
   ]
  },
  {
   "cell_type": "markdown",
   "id": "5ffca6ba",
   "metadata": {},
   "source": [
    "Dynamic Typing:\n",
    "reassign with different datatype"
   ]
  },
  {
   "cell_type": "code",
   "execution_count": 36,
   "id": "fa74d361",
   "metadata": {},
   "outputs": [],
   "source": [
    "a=6"
   ]
  },
  {
   "cell_type": "code",
   "execution_count": 37,
   "id": "0c63d17f",
   "metadata": {},
   "outputs": [
    {
     "name": "stdout",
     "output_type": "stream",
     "text": [
      "6\n"
     ]
    }
   ],
   "source": [
    "print(a)"
   ]
  },
  {
   "cell_type": "code",
   "execution_count": 44,
   "id": "3cf44cc2",
   "metadata": {},
   "outputs": [],
   "source": [
    "a= [2,3]"
   ]
  },
  {
   "cell_type": "code",
   "execution_count": 45,
   "id": "be8d7524",
   "metadata": {},
   "outputs": [
    {
     "name": "stdout",
     "output_type": "stream",
     "text": [
      "[2, 3]\n"
     ]
    }
   ],
   "source": [
    "print(a)"
   ]
  },
  {
   "cell_type": "code",
   "execution_count": 46,
   "id": "7121d512",
   "metadata": {},
   "outputs": [
    {
     "data": {
      "text/plain": [
       "list"
      ]
     },
     "execution_count": 46,
     "metadata": {},
     "output_type": "execute_result"
    }
   ],
   "source": [
    "type(a)"
   ]
  },
  {
   "cell_type": "code",
   "execution_count": 51,
   "id": "9837d1ab",
   "metadata": {},
   "outputs": [],
   "source": [
    "int =6 #vzoid using keywords"
   ]
  },
  {
   "cell_type": "code",
   "execution_count": 50,
   "id": "10154dff",
   "metadata": {},
   "outputs": [
    {
     "data": {
      "text/plain": [
       "6"
      ]
     },
     "execution_count": 50,
     "metadata": {},
     "output_type": "execute_result"
    }
   ],
   "source": [
    "int"
   ]
  },
  {
   "cell_type": "markdown",
   "id": "7e311fc8",
   "metadata": {},
   "source": [
    "Strings"
   ]
  },
  {
   "cell_type": "code",
   "execution_count": 61,
   "id": "44b84201",
   "metadata": {},
   "outputs": [],
   "source": [
    "s= 'Vishnu '"
   ]
  },
  {
   "cell_type": "code",
   "execution_count": 62,
   "id": "093a8d0d",
   "metadata": {},
   "outputs": [
    {
     "data": {
      "text/plain": [
       "'Vishnu '"
      ]
     },
     "execution_count": 62,
     "metadata": {},
     "output_type": "execute_result"
    }
   ],
   "source": [
    "s"
   ]
  },
  {
   "cell_type": "code",
   "execution_count": 63,
   "id": "bdc1a853",
   "metadata": {},
   "outputs": [],
   "source": [
    "t = \"Vishnu \""
   ]
  },
  {
   "cell_type": "code",
   "execution_count": 64,
   "id": "f1bf0872",
   "metadata": {},
   "outputs": [
    {
     "data": {
      "text/plain": [
       "'Vishnu '"
      ]
     },
     "execution_count": 64,
     "metadata": {},
     "output_type": "execute_result"
    }
   ],
   "source": [
    "t"
   ]
  },
  {
   "cell_type": "code",
   "execution_count": 65,
   "id": "72fee25e",
   "metadata": {},
   "outputs": [
    {
     "ename": "SyntaxError",
     "evalue": "unterminated string literal (detected at line 1) (2559178824.py, line 1)",
     "output_type": "error",
     "traceback": [
      "\u001b[1;36m  Cell \u001b[1;32mIn[65], line 1\u001b[1;36m\u001b[0m\n\u001b[1;33m    u = 'I can't do'\u001b[0m\n\u001b[1;37m                   ^\u001b[0m\n\u001b[1;31mSyntaxError\u001b[0m\u001b[1;31m:\u001b[0m unterminated string literal (detected at line 1)\n"
     ]
    }
   ],
   "source": [
    "u = 'I can't do'"
   ]
  },
  {
   "cell_type": "code",
   "execution_count": 66,
   "id": "314429e3",
   "metadata": {},
   "outputs": [
    {
     "data": {
      "text/plain": [
       "'I cant do'"
      ]
     },
     "execution_count": 66,
     "metadata": {},
     "output_type": "execute_result"
    }
   ],
   "source": [
    "u"
   ]
  },
  {
   "cell_type": "code",
   "execution_count": 59,
   "id": "03049f36",
   "metadata": {},
   "outputs": [],
   "source": [
    "v = \"I can't do it\""
   ]
  },
  {
   "cell_type": "code",
   "execution_count": 67,
   "id": "ec4c40a8",
   "metadata": {},
   "outputs": [
    {
     "data": {
      "text/plain": [
       "\"I can't do it\""
      ]
     },
     "execution_count": 67,
     "metadata": {},
     "output_type": "execute_result"
    }
   ],
   "source": [
    "v"
   ]
  },
  {
   "cell_type": "code",
   "execution_count": 69,
   "id": "ad2ff71a",
   "metadata": {},
   "outputs": [
    {
     "name": "stdout",
     "output_type": "stream",
     "text": [
      "hello \n",
      " world\n",
      "hello \t world\n"
     ]
    }
   ],
   "source": [
    "print(\"hello \\n world\")\n",
    "print(\"hello \\t world\")"
   ]
  },
  {
   "cell_type": "code",
   "execution_count": 73,
   "id": "272f8c18",
   "metadata": {},
   "outputs": [
    {
     "data": {
      "text/plain": [
       "6"
      ]
     },
     "execution_count": 73,
     "metadata": {},
     "output_type": "execute_result"
    }
   ],
   "source": [
    "len('hello ')"
   ]
  },
  {
   "cell_type": "code",
   "execution_count": null,
   "id": "7df261c4",
   "metadata": {},
   "outputs": [],
   "source": [
    "s = 'Hello'"
   ]
  },
  {
   "cell_type": "code",
   "execution_count": 74,
   "id": "fa141f6e",
   "metadata": {},
   "outputs": [
    {
     "data": {
      "text/plain": [
       "'Vishnu '"
      ]
     },
     "execution_count": 74,
     "metadata": {},
     "output_type": "execute_result"
    }
   ],
   "source": [
    "s"
   ]
  },
  {
   "cell_type": "code",
   "execution_count": 77,
   "id": "ea2fd524",
   "metadata": {},
   "outputs": [
    {
     "data": {
      "text/plain": [
       "'u'"
      ]
     },
     "execution_count": 77,
     "metadata": {},
     "output_type": "execute_result"
    }
   ],
   "source": [
    "s[5]"
   ]
  },
  {
   "cell_type": "code",
   "execution_count": 79,
   "id": "e0b3d2e7",
   "metadata": {},
   "outputs": [
    {
     "data": {
      "text/plain": [
       "'u'"
      ]
     },
     "execution_count": 79,
     "metadata": {},
     "output_type": "execute_result"
    }
   ],
   "source": [
    "s[-2]"
   ]
  },
  {
   "cell_type": "markdown",
   "id": "d3ad4830",
   "metadata": {},
   "source": [
    "Slicing"
   ]
  },
  {
   "cell_type": "code",
   "execution_count": 80,
   "id": "8283b018",
   "metadata": {},
   "outputs": [
    {
     "data": {
      "text/plain": [
       "'shnu '"
      ]
     },
     "execution_count": 80,
     "metadata": {},
     "output_type": "execute_result"
    }
   ],
   "source": [
    " s[2:]"
   ]
  },
  {
   "cell_type": "code",
   "execution_count": 81,
   "id": "15bc85dc",
   "metadata": {},
   "outputs": [
    {
     "data": {
      "text/plain": [
       "'Vish'"
      ]
     },
     "execution_count": 81,
     "metadata": {},
     "output_type": "execute_result"
    }
   ],
   "source": [
    " s[:4]"
   ]
  },
  {
   "cell_type": "code",
   "execution_count": 82,
   "id": "7d85f985",
   "metadata": {},
   "outputs": [
    {
     "data": {
      "text/plain": [
       "'sh'"
      ]
     },
     "execution_count": 82,
     "metadata": {},
     "output_type": "execute_result"
    }
   ],
   "source": [
    "s[2:4]"
   ]
  },
  {
   "cell_type": "code",
   "execution_count": 83,
   "id": "755f0d61",
   "metadata": {},
   "outputs": [
    {
     "data": {
      "text/plain": [
       "'Vsn '"
      ]
     },
     "execution_count": 83,
     "metadata": {},
     "output_type": "execute_result"
    }
   ],
   "source": [
    "s[::2]"
   ]
  },
  {
   "cell_type": "markdown",
   "id": "6831593f",
   "metadata": {},
   "source": [
    "Immutability"
   ]
  },
  {
   "cell_type": "code",
   "execution_count": 84,
   "id": "279cfba7",
   "metadata": {},
   "outputs": [],
   "source": [
    "n = 'Name'"
   ]
  },
  {
   "cell_type": "code",
   "execution_count": 85,
   "id": "9162b9e2",
   "metadata": {},
   "outputs": [
    {
     "ename": "TypeError",
     "evalue": "'str' object does not support item assignment",
     "output_type": "error",
     "traceback": [
      "\u001b[1;31m---------------------------------------------------------------------------\u001b[0m",
      "\u001b[1;31mTypeError\u001b[0m                                 Traceback (most recent call last)",
      "Cell \u001b[1;32mIn[85], line 1\u001b[0m\n\u001b[1;32m----> 1\u001b[0m n[\u001b[38;5;241m0\u001b[39m] \u001b[38;5;241m=\u001b[39m \u001b[38;5;124m'\u001b[39m\u001b[38;5;124mP\u001b[39m\u001b[38;5;124m'\u001b[39m\n",
      "\u001b[1;31mTypeError\u001b[0m: 'str' object does not support item assignment"
     ]
    }
   ],
   "source": [
    "n[0] = 'P'"
   ]
  },
  {
   "cell_type": "code",
   "execution_count": 86,
   "id": "66f35f35",
   "metadata": {},
   "outputs": [],
   "source": [
    " x = 'P' + n[1:]"
   ]
  },
  {
   "cell_type": "code",
   "execution_count": 87,
   "id": "2d1e9023",
   "metadata": {},
   "outputs": [
    {
     "data": {
      "text/plain": [
       "'Pame'"
      ]
     },
     "execution_count": 87,
     "metadata": {},
     "output_type": "execute_result"
    }
   ],
   "source": [
    "x"
   ]
  },
  {
   "cell_type": "code",
   "execution_count": 93,
   "id": "9f143aff",
   "metadata": {},
   "outputs": [],
   "source": [
    "x= x+'is be'"
   ]
  },
  {
   "cell_type": "code",
   "execution_count": 94,
   "id": "d0fa0e68",
   "metadata": {},
   "outputs": [
    {
     "data": {
      "text/plain": [
       "'Pameis beis beis be'"
      ]
     },
     "execution_count": 94,
     "metadata": {},
     "output_type": "execute_result"
    }
   ],
   "source": [
    "x"
   ]
  },
  {
   "cell_type": "code",
   "execution_count": 95,
   "id": "1b1b4263",
   "metadata": {},
   "outputs": [],
   "source": [
    "y = 'a'"
   ]
  },
  {
   "cell_type": "code",
   "execution_count": 96,
   "id": "27b48770",
   "metadata": {},
   "outputs": [
    {
     "data": {
      "text/plain": [
       "'a'"
      ]
     },
     "execution_count": 96,
     "metadata": {},
     "output_type": "execute_result"
    }
   ],
   "source": [
    "y"
   ]
  },
  {
   "cell_type": "code",
   "execution_count": 97,
   "id": "6413c4e4",
   "metadata": {},
   "outputs": [
    {
     "data": {
      "text/plain": [
       "'aaaaaaaaaa'"
      ]
     },
     "execution_count": 97,
     "metadata": {},
     "output_type": "execute_result"
    }
   ],
   "source": [
    "y*10"
   ]
  },
  {
   "cell_type": "code",
   "execution_count": 98,
   "id": "354ab935",
   "metadata": {},
   "outputs": [],
   "source": [
    "y = 'abc'"
   ]
  },
  {
   "cell_type": "code",
   "execution_count": 99,
   "id": "9c9e6712",
   "metadata": {},
   "outputs": [
    {
     "data": {
      "text/plain": [
       "'abc'"
      ]
     },
     "execution_count": 99,
     "metadata": {},
     "output_type": "execute_result"
    }
   ],
   "source": [
    "y"
   ]
  },
  {
   "cell_type": "code",
   "execution_count": 100,
   "id": "da9cd174",
   "metadata": {},
   "outputs": [
    {
     "data": {
      "text/plain": [
       "'abcabcabcabcabcabcabcabcabcabc'"
      ]
     },
     "execution_count": 100,
     "metadata": {},
     "output_type": "execute_result"
    }
   ],
   "source": [
    "y*10"
   ]
  },
  {
   "cell_type": "markdown",
   "id": "80d44cd9",
   "metadata": {},
   "source": [
    "Manipulation with ."
   ]
  },
  {
   "cell_type": "code",
   "execution_count": 101,
   "id": "45d195e4",
   "metadata": {},
   "outputs": [],
   "source": [
    "x = \"Hello Wroeld\""
   ]
  },
  {
   "cell_type": "code",
   "execution_count": 102,
   "id": "809fd7e7",
   "metadata": {},
   "outputs": [
    {
     "data": {
      "text/plain": [
       "'HELLO WROELD'"
      ]
     },
     "execution_count": 102,
     "metadata": {},
     "output_type": "execute_result"
    }
   ],
   "source": [
    "x.upper()"
   ]
  },
  {
   "cell_type": "code",
   "execution_count": 103,
   "id": "019d1281",
   "metadata": {},
   "outputs": [
    {
     "data": {
      "text/plain": [
       "<function str.upper()>"
      ]
     },
     "execution_count": 103,
     "metadata": {},
     "output_type": "execute_result"
    }
   ],
   "source": [
    "x.upper"
   ]
  },
  {
   "cell_type": "code",
   "execution_count": 104,
   "id": "ac1fb74e",
   "metadata": {},
   "outputs": [
    {
     "data": {
      "text/plain": [
       "['Hello', 'Wroeld']"
      ]
     },
     "execution_count": 104,
     "metadata": {},
     "output_type": "execute_result"
    }
   ],
   "source": [
    "x.split()"
   ]
  },
  {
   "cell_type": "code",
   "execution_count": 105,
   "id": "5e5cd98d",
   "metadata": {},
   "outputs": [],
   "source": [
    "x = 'Hi ith9s is string '"
   ]
  },
  {
   "cell_type": "code",
   "execution_count": 106,
   "id": "93a0b4b1",
   "metadata": {},
   "outputs": [
    {
     "data": {
      "text/plain": [
       "['H', ' ', 'th9s ', 's str', 'ng ']"
      ]
     },
     "execution_count": 106,
     "metadata": {},
     "output_type": "execute_result"
    }
   ],
   "source": [
    "x.split('i')"
   ]
  },
  {
   "cell_type": "code",
   "execution_count": 107,
   "id": "1478c6d7",
   "metadata": {},
   "outputs": [
    {
     "data": {
      "text/plain": [
       "['Hi ith9s is string ']"
      ]
     },
     "execution_count": 107,
     "metadata": {},
     "output_type": "execute_result"
    }
   ],
   "source": [
    "x.split('I')"
   ]
  },
  {
   "cell_type": "markdown",
   "id": "40ce51fc",
   "metadata": {},
   "source": [
    "string interpolation"
   ]
  },
  {
   "cell_type": "code",
   "execution_count": 108,
   "id": "37e8af28",
   "metadata": {},
   "outputs": [
    {
     "data": {
      "text/plain": [
       "'sfiobjlvb x 1 erhbtrgn  x 2 '"
      ]
     },
     "execution_count": 108,
     "metadata": {},
     "output_type": "execute_result"
    }
   ],
   "source": [
    "'sfiobjlvb{}erhbtrgn {}'.format(' x 1 ', ' x 2 ')"
   ]
  },
  {
   "cell_type": "code",
   "execution_count": 109,
   "id": "157ec490",
   "metadata": {},
   "outputs": [
    {
     "data": {
      "text/plain": [
       "'sfiobjlvb x 2 erhbtrgn  x 1 '"
      ]
     },
     "execution_count": 109,
     "metadata": {},
     "output_type": "execute_result"
    }
   ],
   "source": [
    "'sfiobjlvb{1}erhbtrgn {0}'.format(' x 1 ', ' x 2 ')"
   ]
  },
  {
   "cell_type": "code",
   "execution_count": 110,
   "id": "4c8e0af7",
   "metadata": {},
   "outputs": [
    {
     "ename": "ValueError",
     "evalue": "cannot switch from manual field specification to automatic field numbering",
     "output_type": "error",
     "traceback": [
      "\u001b[1;31m---------------------------------------------------------------------------\u001b[0m",
      "\u001b[1;31mValueError\u001b[0m                                Traceback (most recent call last)",
      "Cell \u001b[1;32mIn[110], line 1\u001b[0m\n\u001b[1;32m----> 1\u001b[0m \u001b[38;5;124;43m'\u001b[39;49m\u001b[38;5;124;43msfiobjlvb\u001b[39;49m\u001b[38;5;132;43;01m{1}\u001b[39;49;00m\u001b[38;5;124;43merhbtrgn \u001b[39;49m\u001b[38;5;132;43;01m{}\u001b[39;49;00m\u001b[38;5;124;43m'\u001b[39;49m\u001b[38;5;241;43m.\u001b[39;49m\u001b[43mformat\u001b[49m\u001b[43m(\u001b[49m\u001b[38;5;124;43m'\u001b[39;49m\u001b[38;5;124;43m x 1 \u001b[39;49m\u001b[38;5;124;43m'\u001b[39;49m\u001b[43m,\u001b[49m\u001b[43m \u001b[49m\u001b[38;5;124;43m'\u001b[39;49m\u001b[38;5;124;43m x 2 \u001b[39;49m\u001b[38;5;124;43m'\u001b[39;49m\u001b[43m)\u001b[49m\n",
      "\u001b[1;31mValueError\u001b[0m: cannot switch from manual field specification to automatic field numbering"
     ]
    }
   ],
   "source": [
    "'sfiobjlvb{1}erhbtrgn {}'.format(' x 1 ', ' x 2 ')"
   ]
  },
  {
   "cell_type": "code",
   "execution_count": 111,
   "id": "d99d35f6",
   "metadata": {},
   "outputs": [
    {
     "data": {
      "text/plain": [
       "'sfiobjlvb x 1 erhbtrgn  x 1 '"
      ]
     },
     "execution_count": 111,
     "metadata": {},
     "output_type": "execute_result"
    }
   ],
   "source": [
    "'sfiobjlvb{0}erhbtrgn {0}'.format(' x 1 ', ' x 2 ')"
   ]
  },
  {
   "cell_type": "code",
   "execution_count": 112,
   "id": "f2fd954e",
   "metadata": {},
   "outputs": [
    {
     "data": {
      "text/plain": [
       "'sfiobjlvb x 2 erhbtrgn  x 1 '"
      ]
     },
     "execution_count": 112,
     "metadata": {},
     "output_type": "execute_result"
    }
   ],
   "source": [
    "'sfiobjlvb{g}erhbtrgn {f}'.format(f = ' x 1 ', g = ' x 2 ')"
   ]
  },
  {
   "cell_type": "code",
   "execution_count": 113,
   "id": "46426b76",
   "metadata": {},
   "outputs": [
    {
     "ename": "IndexError",
     "evalue": "Replacement index 1 out of range for positional args tuple",
     "output_type": "error",
     "traceback": [
      "\u001b[1;31m---------------------------------------------------------------------------\u001b[0m",
      "\u001b[1;31mIndexError\u001b[0m                                Traceback (most recent call last)",
      "Cell \u001b[1;32mIn[113], line 1\u001b[0m\n\u001b[1;32m----> 1\u001b[0m \u001b[38;5;124;43m'\u001b[39;49m\u001b[38;5;124;43msfiobjlvb\u001b[39;49m\u001b[38;5;132;43;01m{g}\u001b[39;49;00m\u001b[38;5;124;43merhbtrgn \u001b[39;49m\u001b[38;5;132;43;01m{1}\u001b[39;49;00m\u001b[38;5;124;43m'\u001b[39;49m\u001b[38;5;241;43m.\u001b[39;49m\u001b[43mformat\u001b[49m\u001b[43m(\u001b[49m\u001b[43mf\u001b[49m\u001b[43m \u001b[49m\u001b[38;5;241;43m=\u001b[39;49m\u001b[43m \u001b[49m\u001b[38;5;124;43m'\u001b[39;49m\u001b[38;5;124;43m x 1 \u001b[39;49m\u001b[38;5;124;43m'\u001b[39;49m\u001b[43m,\u001b[49m\u001b[43m \u001b[49m\u001b[43mg\u001b[49m\u001b[43m \u001b[49m\u001b[38;5;241;43m=\u001b[39;49m\u001b[43m \u001b[49m\u001b[38;5;124;43m'\u001b[39;49m\u001b[38;5;124;43m x 2 \u001b[39;49m\u001b[38;5;124;43m'\u001b[39;49m\u001b[43m)\u001b[49m\n",
      "\u001b[1;31mIndexError\u001b[0m: Replacement index 1 out of range for positional args tuple"
     ]
    }
   ],
   "source": [
    "'sfiobjlvb{g}erhbtrgn {1}'.format(f = ' x 1 ', g = ' x 2 ')"
   ]
  },
  {
   "cell_type": "markdown",
   "id": "3429550b",
   "metadata": {},
   "source": [
    "float formatting"
   ]
  },
  {
   "cell_type": "code",
   "execution_count": 114,
   "id": "20a33c09",
   "metadata": {},
   "outputs": [],
   "source": [
    "a = 2/7"
   ]
  },
  {
   "cell_type": "code",
   "execution_count": 115,
   "id": "2bde7967",
   "metadata": {},
   "outputs": [
    {
     "data": {
      "text/plain": [
       "0.2857142857142857"
      ]
     },
     "execution_count": 115,
     "metadata": {},
     "output_type": "execute_result"
    }
   ],
   "source": [
    "a"
   ]
  },
  {
   "cell_type": "code",
   "execution_count": 116,
   "id": "e64d2e92",
   "metadata": {},
   "outputs": [
    {
     "name": "stdout",
     "output_type": "stream",
     "text": [
      "Vishnu 0.2857142857142857\n"
     ]
    }
   ],
   "source": [
    "print(\"Vishnu {}\".format(a))"
   ]
  },
  {
   "cell_type": "code",
   "execution_count": 119,
   "id": "9c1226a7",
   "metadata": {},
   "outputs": [
    {
     "name": "stdout",
     "output_type": "stream",
     "text": [
      "Vishnu 0.286\n"
     ]
    }
   ],
   "source": [
    "print(\"Vishnu {0:1.3f}\".format(a))"
   ]
  },
  {
   "cell_type": "code",
   "execution_count": 122,
   "id": "d1bf89b4",
   "metadata": {},
   "outputs": [
    {
     "name": "stdout",
     "output_type": "stream",
     "text": [
      "Vishnu 0.286\n"
     ]
    }
   ],
   "source": [
    "print(\"Vishnu {r:0.3f}\".format(r = a))"
   ]
  },
  {
   "cell_type": "code",
   "execution_count": 123,
   "id": "70b1cb68",
   "metadata": {},
   "outputs": [
    {
     "name": "stdout",
     "output_type": "stream",
     "text": [
      "Vishnu      0.286\n"
     ]
    }
   ],
   "source": [
    " print(\"Vishnu {r:10.3f}\".format(r = a)) #formatted string literals"
   ]
  },
  {
   "cell_type": "markdown",
   "id": "614bc66b",
   "metadata": {},
   "source": [
    "formated f strings\n"
   ]
  },
  {
   "cell_type": "markdown",
   "id": "e6cb23b2",
   "metadata": {},
   "source": []
  },
  {
   "cell_type": "code",
   "execution_count": 124,
   "id": "80ddc4e6",
   "metadata": {},
   "outputs": [],
   "source": [
    "name = \"vishnu\""
   ]
  },
  {
   "cell_type": "code",
   "execution_count": 125,
   "id": "6836d43a",
   "metadata": {},
   "outputs": [
    {
     "name": "stdout",
     "output_type": "stream",
     "text": [
      "helo, this is vishnu\n"
     ]
    }
   ],
   "source": [
    "print(f\"helo, this is {name}\")"
   ]
  },
  {
   "cell_type": "code",
   "execution_count": 126,
   "id": "e9100c34",
   "metadata": {},
   "outputs": [
    {
     "ename": "SyntaxError",
     "evalue": "invalid syntax (253945916.py, line 1)",
     "output_type": "error",
     "traceback": [
      "\u001b[1;36m  Cell \u001b[1;32mIn[126], line 1\u001b[1;36m\u001b[0m\n\u001b[1;33m    print(\"vishnu %s\",%'name')\u001b[0m\n\u001b[1;37m                      ^\u001b[0m\n\u001b[1;31mSyntaxError\u001b[0m\u001b[1;31m:\u001b[0m invalid syntax\n"
     ]
    }
   ],
   "source": [
    " print(\"vishnu %s\",%'name' )"
   ]
  },
  {
   "cell_type": "markdown",
   "id": "c9173851",
   "metadata": {},
   "source": [
    "Lists"
   ]
  },
  {
   "cell_type": "code",
   "execution_count": 127,
   "id": "8a7c6898",
   "metadata": {},
   "outputs": [
    {
     "data": {
      "text/plain": [
       "3"
      ]
     },
     "execution_count": 127,
     "metadata": {},
     "output_type": "execute_result"
    }
   ],
   "source": [
    "len([1,2,3])"
   ]
  },
  {
   "cell_type": "code",
   "execution_count": 128,
   "id": "4cc4e1c7",
   "metadata": {},
   "outputs": [],
   "source": [
    "x = [1,2,3]"
   ]
  },
  {
   "cell_type": "code",
   "execution_count": 129,
   "id": "d9e189a1",
   "metadata": {},
   "outputs": [
    {
     "data": {
      "text/plain": [
       "[1, 2, 3]"
      ]
     },
     "execution_count": 129,
     "metadata": {},
     "output_type": "execute_result"
    }
   ],
   "source": [
    "x"
   ]
  },
  {
   "cell_type": "code",
   "execution_count": 130,
   "id": "84642be4",
   "metadata": {},
   "outputs": [],
   "source": [
    "x.append(5)"
   ]
  },
  {
   "cell_type": "code",
   "execution_count": 131,
   "id": "284ede8a",
   "metadata": {},
   "outputs": [
    {
     "data": {
      "text/plain": [
       "[1, 2, 3, 5]"
      ]
     },
     "execution_count": 131,
     "metadata": {},
     "output_type": "execute_result"
    }
   ],
   "source": [
    "x"
   ]
  },
  {
   "cell_type": "code",
   "execution_count": 132,
   "id": "417f305f",
   "metadata": {},
   "outputs": [
    {
     "data": {
      "text/plain": [
       "5"
      ]
     },
     "execution_count": 132,
     "metadata": {},
     "output_type": "execute_result"
    }
   ],
   "source": [
    "x.pop()"
   ]
  },
  {
   "cell_type": "code",
   "execution_count": 133,
   "id": "9450d043",
   "metadata": {},
   "outputs": [
    {
     "data": {
      "text/plain": [
       "[1, 2, 3]"
      ]
     },
     "execution_count": 133,
     "metadata": {},
     "output_type": "execute_result"
    }
   ],
   "source": [
    "x"
   ]
  },
  {
   "cell_type": "code",
   "execution_count": 135,
   "id": "a2bd0f9e",
   "metadata": {},
   "outputs": [],
   "source": [
    "t = x.pop()"
   ]
  },
  {
   "cell_type": "code",
   "execution_count": 136,
   "id": "55cfd487",
   "metadata": {},
   "outputs": [
    {
     "data": {
      "text/plain": [
       "3"
      ]
     },
     "execution_count": 136,
     "metadata": {},
     "output_type": "execute_result"
    }
   ],
   "source": [
    "t"
   ]
  },
  {
   "cell_type": "code",
   "execution_count": 137,
   "id": "0adff439",
   "metadata": {},
   "outputs": [],
   "source": [
    "v = x.pop(0)"
   ]
  },
  {
   "cell_type": "code",
   "execution_count": 138,
   "id": "69d32a0b",
   "metadata": {},
   "outputs": [
    {
     "data": {
      "text/plain": [
       "1"
      ]
     },
     "execution_count": 138,
     "metadata": {},
     "output_type": "execute_result"
    }
   ],
   "source": [
    "v"
   ]
  },
  {
   "cell_type": "code",
   "execution_count": 139,
   "id": "1ec34132",
   "metadata": {},
   "outputs": [
    {
     "data": {
      "text/plain": [
       "[2]"
      ]
     },
     "execution_count": 139,
     "metadata": {},
     "output_type": "execute_result"
    }
   ],
   "source": [
    "x"
   ]
  },
  {
   "cell_type": "code",
   "execution_count": 140,
   "id": "5bf0b1d2",
   "metadata": {},
   "outputs": [
    {
     "data": {
      "text/plain": [
       "[2]"
      ]
     },
     "execution_count": 140,
     "metadata": {},
     "output_type": "execute_result"
    }
   ],
   "source": [
    "x "
   ]
  },
  {
   "cell_type": "markdown",
   "id": "dee062f9",
   "metadata": {},
   "source": [
    "Sort"
   ]
  },
  {
   "cell_type": "code",
   "execution_count": 141,
   "id": "0d7502d9",
   "metadata": {},
   "outputs": [],
   "source": [
    "x = [1,4,2,7,4]"
   ]
  },
  {
   "cell_type": "code",
   "execution_count": 142,
   "id": "4ae8e68e",
   "metadata": {},
   "outputs": [],
   "source": [
    "x.sort()"
   ]
  },
  {
   "cell_type": "code",
   "execution_count": 143,
   "id": "71b310e3",
   "metadata": {},
   "outputs": [
    {
     "data": {
      "text/plain": [
       "[1, 2, 4, 4, 7]"
      ]
     },
     "execution_count": 143,
     "metadata": {},
     "output_type": "execute_result"
    }
   ],
   "source": [
    "x"
   ]
  },
  {
   "cell_type": "code",
   "execution_count": 144,
   "id": "6c6a91c8",
   "metadata": {},
   "outputs": [],
   "source": [
    "y = x.sort()"
   ]
  },
  {
   "cell_type": "code",
   "execution_count": 145,
   "id": "0bca8316",
   "metadata": {},
   "outputs": [],
   "source": [
    "y"
   ]
  },
  {
   "cell_type": "code",
   "execution_count": 146,
   "id": "46063db6",
   "metadata": {},
   "outputs": [
    {
     "data": {
      "text/plain": [
       "NoneType"
      ]
     },
     "execution_count": 146,
     "metadata": {},
     "output_type": "execute_result"
    }
   ],
   "source": [
    "type(y) #no return for sort"
   ]
  },
  {
   "cell_type": "code",
   "execution_count": 147,
   "id": "38d6a427",
   "metadata": {},
   "outputs": [],
   "source": [
    "x = [1,4,2,7,4]"
   ]
  },
  {
   "cell_type": "code",
   "execution_count": 149,
   "id": "d3cecef7",
   "metadata": {},
   "outputs": [],
   "source": [
    "y =4"
   ]
  },
  {
   "cell_type": "markdown",
   "id": "9a0fba19",
   "metadata": {},
   "source": [
    "Dict"
   ]
  },
  {
   "cell_type": "code",
   "execution_count": 4,
   "id": "43a7ae23",
   "metadata": {},
   "outputs": [],
   "source": [
    "mydict = {\"key1\" : \"Value1\", \"key2\" : [0,1,2]} #multiple allowed "
   ]
  },
  {
   "cell_type": "code",
   "execution_count": 5,
   "id": "ae693555",
   "metadata": {},
   "outputs": [
    {
     "data": {
      "text/plain": [
       "'Value1'"
      ]
     },
     "execution_count": 5,
     "metadata": {},
     "output_type": "execute_result"
    }
   ],
   "source": [
    "mydict[\"key1\"]"
   ]
  },
  {
   "cell_type": "code",
   "execution_count": 8,
   "id": "141bd3a0",
   "metadata": {},
   "outputs": [],
   "source": [
    "dic = {2:23, \"Val\":34}"
   ]
  },
  {
   "cell_type": "code",
   "execution_count": 9,
   "id": "7aafc53c",
   "metadata": {},
   "outputs": [
    {
     "data": {
      "text/plain": [
       "23"
      ]
     },
     "execution_count": 9,
     "metadata": {},
     "output_type": "execute_result"
    }
   ],
   "source": [
    "dic[2]"
   ]
  },
  {
   "cell_type": "code",
   "execution_count": 10,
   "id": "50e0cc8d",
   "metadata": {},
   "outputs": [
    {
     "data": {
      "text/plain": [
       "34"
      ]
     },
     "execution_count": 10,
     "metadata": {},
     "output_type": "execute_result"
    }
   ],
   "source": [
    "dic[\"Val\"]"
   ]
  },
  {
   "cell_type": "code",
   "execution_count": 15,
   "id": "99b154b0",
   "metadata": {},
   "outputs": [],
   "source": [
    "s=set()"
   ]
  },
  {
   "cell_type": "code",
   "execution_count": 18,
   "id": "2636ff49",
   "metadata": {},
   "outputs": [],
   "source": [
    "s.add(1)"
   ]
  },
  {
   "cell_type": "code",
   "execution_count": 21,
   "id": "42453f3e",
   "metadata": {},
   "outputs": [],
   "source": [
    "s = set([1,2,3,1,1,1,1,2,2,2,3,3,4,4,5,5])"
   ]
  },
  {
   "cell_type": "code",
   "execution_count": 22,
   "id": "11eaca91",
   "metadata": {},
   "outputs": [
    {
     "data": {
      "text/plain": [
       "{1, 2, 3, 4, 5}"
      ]
     },
     "execution_count": 22,
     "metadata": {},
     "output_type": "execute_result"
    }
   ],
   "source": [
    "s"
   ]
  },
  {
   "cell_type": "code",
   "execution_count": 23,
   "id": "d7c7c10d",
   "metadata": {},
   "outputs": [],
   "source": [
    "s.add(\"Vishnu\")"
   ]
  },
  {
   "cell_type": "code",
   "execution_count": 24,
   "id": "3762d9ba",
   "metadata": {},
   "outputs": [
    {
     "data": {
      "text/plain": [
       "{1, 2, 3, 4, 5, 'Vishnu'}"
      ]
     },
     "execution_count": 24,
     "metadata": {},
     "output_type": "execute_result"
    }
   ],
   "source": [
    "s"
   ]
  },
  {
   "cell_type": "code",
   "execution_count": 25,
   "id": "2c79aa12",
   "metadata": {},
   "outputs": [],
   "source": [
    "s = set(\"Vishnu\")"
   ]
  },
  {
   "cell_type": "code",
   "execution_count": 26,
   "id": "9f0a0511",
   "metadata": {},
   "outputs": [
    {
     "data": {
      "text/plain": [
       "{'V', 'h', 'i', 'n', 's', 'u'}"
      ]
     },
     "execution_count": 26,
     "metadata": {},
     "output_type": "execute_result"
    }
   ],
   "source": [
    "s"
   ]
  },
  {
   "cell_type": "code",
   "execution_count": 29,
   "id": "a4dd3a41",
   "metadata": {},
   "outputs": [
    {
     "name": "stdout",
     "output_type": "stream",
     "text": [
      "Overwriting myfile.txt\n"
     ]
    }
   ],
   "source": [
    "%%writefile myfile.txt\n",
    "First\n",
    "Second\n",
    "Third\n",
    "Fourth"
   ]
  },
  {
   "cell_type": "code",
   "execution_count": 35,
   "id": "03ad71b0",
   "metadata": {},
   "outputs": [],
   "source": [
    "myfile = open(\"code.txt\")"
   ]
  },
  {
   "cell_type": "code",
   "execution_count": 31,
   "id": "0f0ffdb4",
   "metadata": {},
   "outputs": [
    {
     "ename": "FileNotFoundError",
     "evalue": "[Errno 2] No such file or directory: 'wrong.txt'",
     "output_type": "error",
     "traceback": [
      "\u001b[1;31m---------------------------------------------------------------------------\u001b[0m",
      "\u001b[1;31mFileNotFoundError\u001b[0m                         Traceback (most recent call last)",
      "Cell \u001b[1;32mIn[31], line 1\u001b[0m\n\u001b[1;32m----> 1\u001b[0m myfile \u001b[38;5;241m=\u001b[39m \u001b[38;5;28;43mopen\u001b[39;49m\u001b[43m(\u001b[49m\u001b[38;5;124;43m\"\u001b[39;49m\u001b[38;5;124;43mwrong.txt\u001b[39;49m\u001b[38;5;124;43m\"\u001b[39;49m\u001b[43m)\u001b[49m\n",
      "File \u001b[1;32m~\\anaconda3\\lib\\site-packages\\IPython\\core\\interactiveshell.py:282\u001b[0m, in \u001b[0;36m_modified_open\u001b[1;34m(file, *args, **kwargs)\u001b[0m\n\u001b[0;32m    275\u001b[0m \u001b[38;5;28;01mif\u001b[39;00m file \u001b[38;5;129;01min\u001b[39;00m {\u001b[38;5;241m0\u001b[39m, \u001b[38;5;241m1\u001b[39m, \u001b[38;5;241m2\u001b[39m}:\n\u001b[0;32m    276\u001b[0m     \u001b[38;5;28;01mraise\u001b[39;00m \u001b[38;5;167;01mValueError\u001b[39;00m(\n\u001b[0;32m    277\u001b[0m         \u001b[38;5;124mf\u001b[39m\u001b[38;5;124m\"\u001b[39m\u001b[38;5;124mIPython won\u001b[39m\u001b[38;5;124m'\u001b[39m\u001b[38;5;124mt let you open fd=\u001b[39m\u001b[38;5;132;01m{\u001b[39;00mfile\u001b[38;5;132;01m}\u001b[39;00m\u001b[38;5;124m by default \u001b[39m\u001b[38;5;124m\"\u001b[39m\n\u001b[0;32m    278\u001b[0m         \u001b[38;5;124m\"\u001b[39m\u001b[38;5;124mas it is likely to crash IPython. If you know what you are doing, \u001b[39m\u001b[38;5;124m\"\u001b[39m\n\u001b[0;32m    279\u001b[0m         \u001b[38;5;124m\"\u001b[39m\u001b[38;5;124myou can use builtins\u001b[39m\u001b[38;5;124m'\u001b[39m\u001b[38;5;124m open.\u001b[39m\u001b[38;5;124m\"\u001b[39m\n\u001b[0;32m    280\u001b[0m     )\n\u001b[1;32m--> 282\u001b[0m \u001b[38;5;28;01mreturn\u001b[39;00m io_open(file, \u001b[38;5;241m*\u001b[39margs, \u001b[38;5;241m*\u001b[39m\u001b[38;5;241m*\u001b[39mkwargs)\n",
      "\u001b[1;31mFileNotFoundError\u001b[0m: [Errno 2] No such file or directory: 'wrong.txt'"
     ]
    }
   ],
   "source": [
    "myfile = open(\"wrong.txt\")"
   ]
  },
  {
   "cell_type": "code",
   "execution_count": 34,
   "id": "286bca33",
   "metadata": {},
   "outputs": [],
   "source": [
    "myfile.close()"
   ]
  },
  {
   "cell_type": "code",
   "execution_count": 36,
   "id": "165784de",
   "metadata": {},
   "outputs": [],
   "source": [
    "with open(\"code.txt\") as my_file:\n",
    "    contents = my_file.read()"
   ]
  },
  {
   "cell_type": "code",
   "execution_count": 37,
   "id": "4ecca91c",
   "metadata": {},
   "outputs": [
    {
     "data": {
      "text/plain": [
       "'lewgtler\\nhalfwayyrhtyjetrtheh\\nranget\\nhalfwayyrhtyjetrtheh\\nyrf\\n\\nhsrh\\neither\\nbrst\\nbrst\\nbetweentbh\\nyieldf\\nthantd\\nhn\\nyrfnb\\neitherv\\n\\nuniquetdy\\n\\n\\nhalfwayyrhtyjetrthehsryfh\\naddyr\\nget\\ntdg'"
      ]
     },
     "execution_count": 37,
     "metadata": {},
     "output_type": "execute_result"
    }
   ],
   "source": [
    "contents"
   ]
  },
  {
   "cell_type": "markdown",
   "id": "b8956a24",
   "metadata": {},
   "source": [
    "Relations"
   ]
  },
  {
   "cell_type": "code",
   "execution_count": 39,
   "id": "31f2fd92",
   "metadata": {},
   "outputs": [
    {
     "data": {
      "text/plain": [
       "True"
      ]
     },
     "execution_count": 39,
     "metadata": {},
     "output_type": "execute_result"
    }
   ],
   "source": [
    "'bye' == 'bye'"
   ]
  },
  {
   "cell_type": "code",
   "execution_count": 41,
   "id": "27f2b054",
   "metadata": {},
   "outputs": [
    {
     "data": {
      "text/plain": [
       "True"
      ]
     },
     "execution_count": 41,
     "metadata": {},
     "output_type": "execute_result"
    }
   ],
   "source": [
    "True<10"
   ]
  },
  {
   "cell_type": "code",
   "execution_count": 42,
   "id": "22d6a916",
   "metadata": {},
   "outputs": [
    {
     "data": {
      "text/plain": [
       "True"
      ]
     },
     "execution_count": 42,
     "metadata": {},
     "output_type": "execute_result"
    }
   ],
   "source": [
    "True ==1"
   ]
  },
  {
   "cell_type": "code",
   "execution_count": 43,
   "id": "1645f338",
   "metadata": {},
   "outputs": [],
   "source": [
    "s= 'hello'\n",
    "t = list(s)"
   ]
  },
  {
   "cell_type": "code",
   "execution_count": 44,
   "id": "6f21e5a2",
   "metadata": {},
   "outputs": [
    {
     "data": {
      "text/plain": [
       "['h', 'e', 'l', 'l', 'o']"
      ]
     },
     "execution_count": 44,
     "metadata": {},
     "output_type": "execute_result"
    }
   ],
   "source": [
    "t"
   ]
  },
  {
   "cell_type": "code",
   "execution_count": 45,
   "id": "03ef4727",
   "metadata": {},
   "outputs": [],
   "source": [
    "l = [x for x in range(0, 11, 2)]"
   ]
  },
  {
   "cell_type": "code",
   "execution_count": 46,
   "id": "daf60a62",
   "metadata": {},
   "outputs": [
    {
     "data": {
      "text/plain": [
       "[0, 2, 4, 6, 8, 10]"
      ]
     },
     "execution_count": 46,
     "metadata": {},
     "output_type": "execute_result"
    }
   ],
   "source": [
    "l"
   ]
  },
  {
   "cell_type": "markdown",
   "id": "37f478ed",
   "metadata": {},
   "source": [
    "Functions"
   ]
  },
  {
   "cell_type": "code",
   "execution_count": 52,
   "id": "240ecc94",
   "metadata": {},
   "outputs": [],
   "source": [
    "def add(num1, num2=1, num3 = 2):\n",
    "    return num1+num2-num3"
   ]
  },
  {
   "cell_type": "code",
   "execution_count": 53,
   "id": "5a317658",
   "metadata": {},
   "outputs": [
    {
     "data": {
      "text/plain": [
       "1"
      ]
     },
     "execution_count": 53,
     "metadata": {},
     "output_type": "execute_result"
    }
   ],
   "source": [
    "add(2)"
   ]
  },
  {
   "cell_type": "code",
   "execution_count": 55,
   "id": "1ca9ec52",
   "metadata": {},
   "outputs": [
    {
     "data": {
      "text/plain": [
       "-1"
      ]
     },
     "execution_count": 55,
     "metadata": {},
     "output_type": "execute_result"
    }
   ],
   "source": [
    "add(1, num3 = 3)"
   ]
  },
  {
   "cell_type": "code",
   "execution_count": 1,
   "id": "e13099a1",
   "metadata": {},
   "outputs": [
    {
     "data": {
      "text/plain": [
       "2"
      ]
     },
     "execution_count": 1,
     "metadata": {},
     "output_type": "execute_result"
    }
   ],
   "source": [
    "max(1,2)"
   ]
  },
  {
   "cell_type": "code",
   "execution_count": null,
   "id": "55f4da5e",
   "metadata": {},
   "outputs": [],
   "source": []
  }
 ],
 "metadata": {
  "kernelspec": {
   "display_name": "Python 3 (ipykernel)",
   "language": "python",
   "name": "python3"
  },
  "language_info": {
   "codemirror_mode": {
    "name": "ipython",
    "version": 3
   },
   "file_extension": ".py",
   "mimetype": "text/x-python",
   "name": "python",
   "nbconvert_exporter": "python",
   "pygments_lexer": "ipython3",
   "version": "3.10.9"
  }
 },
 "nbformat": 4,
 "nbformat_minor": 5
}
